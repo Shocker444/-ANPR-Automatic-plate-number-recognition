{
 "cells": [
  {
   "cell_type": "code",
   "execution_count": 2,
   "id": "f94a7cfe",
   "metadata": {
    "ExecuteTime": {
     "end_time": "2023-02-24T22:16:16.286321Z",
     "start_time": "2023-02-24T22:15:05.135470Z"
    }
   },
   "outputs": [],
   "source": [
    "import os\n",
    "import cv2\n",
    "import numpy as np\n",
    "import matplotlib.pyplot as plt\n",
    "\n",
    "os.environ['TF_CPP_MIN_LOG_LEVEL'] = '2'    # Suppress TensorFlow logging\n",
    "import tensorflow as tf\n",
    "from object_detection.utils import label_map_util\n",
    "from object_detection.utils import config_util\n",
    "from object_detection.utils import visualization_utils as viz_utils\n",
    "from object_detection.builders import model_builder\n",
    "import tarfile\n",
    "import wget\n",
    "\n",
    "\n",
    "tf.get_logger().setLevel('ERROR')           # Suppress TensorFlow logging (2)"
   ]
  },
  {
   "cell_type": "code",
   "execution_count": 3,
   "id": "5e93cb9f",
   "metadata": {
    "ExecuteTime": {
     "end_time": "2023-02-24T22:17:09.246064Z",
     "start_time": "2023-02-24T22:17:09.223060Z"
    }
   },
   "outputs": [
    {
     "name": "stdout",
     "output_type": "stream",
     "text": [
      "4.6.0\n"
     ]
    }
   ],
   "source": [
    "print(cv2.__version__)"
   ]
  },
  {
   "cell_type": "code",
   "execution_count": 2,
   "id": "9b8ea98b",
   "metadata": {
    "ExecuteTime": {
     "end_time": "2023-02-23T18:56:22.271282Z",
     "start_time": "2023-02-23T18:56:22.260290Z"
    }
   },
   "outputs": [],
   "source": [
    "pretrained_checkpoint = 'ssd_mobilenet_v2_fpnlite_320x320_coco17_tpu-8.tar.gz'\n",
    "\n",
    "if not os.path.exists(pretrained_checkpoint.split('.')[0]):\n",
    "    download_tar =  'http://download.tensorflow.org/models/object_detection/tf2/20200711/' + pretrained_checkpoint\n",
    "    wget.download(download_tar)\n",
    "    tar = tarfile.open(pretrained_checkpoint)\n",
    "    tar.extractall()\n",
    "    tar.close()"
   ]
  },
  {
   "cell_type": "markdown",
   "id": "fe8ab9d1",
   "metadata": {},
   "source": [
    "## Create label map"
   ]
  },
  {
   "cell_type": "code",
   "execution_count": 4,
   "id": "b295f280",
   "metadata": {
    "ExecuteTime": {
     "end_time": "2023-02-24T22:17:20.052594Z",
     "start_time": "2023-02-24T22:17:20.024016Z"
    }
   },
   "outputs": [],
   "source": [
    "label_map = 'label_map.pbtxt'\n",
    "labels = [{'name':'licence', 'id':1}]\n",
    "\n",
    "if not os.path.exists(label_map):\n",
    "    with open(label_map, 'w') as f:\n",
    "        for label in labels:\n",
    "            f.write('item { \\n')\n",
    "            f.write(f\"\\tname: '{label['name']}' \\n\")\n",
    "            f.write(f\"\\tid: {label['id']} \\n\")\n",
    "            f.write('}\\n')"
   ]
  },
  {
   "cell_type": "markdown",
   "id": "17ccd182",
   "metadata": {},
   "source": [
    "## Create a TF record"
   ]
  },
  {
   "cell_type": "code",
   "execution_count": 4,
   "id": "ed1fbdfb",
   "metadata": {
    "ExecuteTime": {
     "end_time": "2023-02-23T18:56:32.907868Z",
     "start_time": "2023-02-23T18:56:32.895866Z"
    }
   },
   "outputs": [],
   "source": [
    "tfrecord = os.path.join('Scripts', 'generate_tfrecord.py')\n",
    "if not os.path.exists(tfrecord):\n",
    "    !git clone https://github.com/nicknochnack/GenerateTFRecord {'Scripts'}"
   ]
  },
  {
   "cell_type": "code",
   "execution_count": 5,
   "id": "c195ee8e",
   "metadata": {
    "ExecuteTime": {
     "end_time": "2023-02-23T18:56:34.025845Z",
     "start_time": "2023-02-23T18:56:34.016846Z"
    }
   },
   "outputs": [
    {
     "name": "stdout",
     "output_type": "stream",
     "text": [
      "<class 'str'>\n"
     ]
    }
   ],
   "source": [
    "print(type(tfrecord))"
   ]
  },
  {
   "cell_type": "code",
   "execution_count": null,
   "id": "22c482c1",
   "metadata": {
    "ExecuteTime": {
     "end_time": "2023-02-21T16:45:11.834224Z",
     "start_time": "2023-02-21T16:44:28.266561Z"
    }
   },
   "outputs": [],
   "source": [
    "!python {tfrecord} -x {os.path.join('train')} -l {os.path.join(label_map)} -o {os.path.join('annotations', 'train.record')}\n",
    "!python {tfrecord} -x {os.path.join('test')} -l {os.path.join(label_map)} -o {os.path.join('annotations', 'test.record')}"
   ]
  },
  {
   "cell_type": "code",
   "execution_count": 5,
   "id": "029e4631",
   "metadata": {
    "ExecuteTime": {
     "end_time": "2023-02-24T22:17:24.188773Z",
     "start_time": "2023-02-24T22:17:24.165046Z"
    }
   },
   "outputs": [],
   "source": [
    "new_path = 'model_config/pipeline.config'"
   ]
  },
  {
   "cell_type": "code",
   "execution_count": 6,
   "id": "5ba1d907",
   "metadata": {
    "ExecuteTime": {
     "end_time": "2023-02-23T18:56:44.017152Z",
     "start_time": "2023-02-23T18:56:43.987155Z"
    }
   },
   "outputs": [],
   "source": [
    "configs = config_util.get_configs_from_pipeline_file(new_path)"
   ]
  },
  {
   "cell_type": "code",
   "execution_count": null,
   "id": "ca83dbd2",
   "metadata": {
    "ExecuteTime": {
     "end_time": "2023-02-23T14:33:22.658123Z",
     "start_time": "2023-02-23T14:33:22.615129Z"
    }
   },
   "outputs": [],
   "source": [
    "configs"
   ]
  },
  {
   "cell_type": "code",
   "execution_count": null,
   "id": "fbb1912f",
   "metadata": {
    "ExecuteTime": {
     "end_time": "2023-02-23T14:33:27.231607Z",
     "start_time": "2023-02-23T14:33:27.223630Z"
    }
   },
   "outputs": [],
   "source": [
    "from object_detection.protos import pipeline_pb2\n",
    "from google.protobuf import text_format"
   ]
  },
  {
   "cell_type": "code",
   "execution_count": null,
   "id": "fc8f472b",
   "metadata": {
    "ExecuteTime": {
     "end_time": "2023-02-23T02:08:29.877091Z",
     "start_time": "2023-02-23T02:08:29.696547Z"
    }
   },
   "outputs": [],
   "source": [
    "pipeline_config = pipeline_pb2.TrainEvalPipelineConfig()\n",
    "with tf.io.gfile.GFile(new_path, 'r') as f:\n",
    "    proto_str = f.read()\n",
    "    text_format.Merge(proto_str, pipeline_config)"
   ]
  },
  {
   "cell_type": "code",
   "execution_count": null,
   "id": "54c84fd0",
   "metadata": {
    "ExecuteTime": {
     "end_time": "2023-02-23T02:08:31.664388Z",
     "start_time": "2023-02-23T02:08:31.643389Z"
    }
   },
   "outputs": [],
   "source": [
    "pipeline_config.model.ssd.num_classes = len(labels)\n",
    "pipeline_config.train_config.batch_size = 4\n",
    "pipeline_config.train_config.fine_tune_checkpoint = os.path.join('ssd_mobilenet_v2_fpnlite_320x320_coco17_tpu-8', 'checkpoint', 'ckpt-0')\n",
    "pipeline_config.train_config.fine_tune_checkpoint_type = 'detection'\n",
    "pipeline_config.train_input_reader.label_map_path = label_map\n",
    "pipeline_config.train_input_reader.tf_record_input_reader.input_path[:] = [os.path.join('annotations', 'train.record')]\n",
    "pipeline_config.eval_input_reader[0].label_map_path = label_map\n",
    "pipeline_config.eval_input_reader[0].tf_record_input_reader.input_path[:] = [os.path.join('annotations', 'test.record')]"
   ]
  },
  {
   "cell_type": "code",
   "execution_count": null,
   "id": "b64d4aca",
   "metadata": {
    "ExecuteTime": {
     "end_time": "2023-02-23T02:08:32.254654Z",
     "start_time": "2023-02-23T02:08:32.233648Z"
    }
   },
   "outputs": [],
   "source": [
    "pipeline_config"
   ]
  },
  {
   "cell_type": "code",
   "execution_count": null,
   "id": "0507226e",
   "metadata": {
    "ExecuteTime": {
     "end_time": "2023-02-23T02:08:33.136541Z",
     "start_time": "2023-02-23T02:08:32.675183Z"
    }
   },
   "outputs": [],
   "source": [
    "config_text = text_format.MessageToString(pipeline_config)\n",
    "with tf.io.gfile.GFile(new_path, 'wb') as f:\n",
    "    f.write(config_text)"
   ]
  },
  {
   "cell_type": "markdown",
   "id": "67a82a55",
   "metadata": {},
   "source": [
    "## Train the model"
   ]
  },
  {
   "cell_type": "code",
   "execution_count": null,
   "id": "68772dae",
   "metadata": {
    "ExecuteTime": {
     "end_time": "2023-02-22T08:50:07.362465Z",
     "start_time": "2023-02-22T08:50:07.345452Z"
    }
   },
   "outputs": [],
   "source": [
    "Training_script = r'C:\\Users\\SHOCKER\\tensorflow_projects\\models\\research\\object_detection\\model_main_tf2.py'"
   ]
  },
  {
   "cell_type": "code",
   "execution_count": null,
   "id": "b03180c6",
   "metadata": {
    "ExecuteTime": {
     "end_time": "2023-02-22T08:53:06.944645Z",
     "start_time": "2023-02-22T08:53:06.929644Z"
    }
   },
   "outputs": [],
   "source": [
    "command = \"python {} --model_dir={} --pipeline_config_path={} --num_train_steps=10000\".format(Training_script,\n",
    "                                                                                             'model_config', new_path)\n",
    "command"
   ]
  },
  {
   "cell_type": "code",
   "execution_count": null,
   "id": "0e65e782",
   "metadata": {
    "ExecuteTime": {
     "end_time": "2023-02-21T19:42:46.436228Z",
     "start_time": "2023-02-21T19:42:30.674352Z"
    }
   },
   "outputs": [],
   "source": [
    "!{command}"
   ]
  },
  {
   "cell_type": "markdown",
   "id": "fa2da585",
   "metadata": {},
   "source": [
    "## Load checkpoint"
   ]
  },
  {
   "cell_type": "code",
   "execution_count": 6,
   "id": "e8024db0",
   "metadata": {
    "ExecuteTime": {
     "end_time": "2023-02-24T22:17:28.822371Z",
     "start_time": "2023-02-24T22:17:28.457115Z"
    }
   },
   "outputs": [
    {
     "data": {
      "text/plain": [
       "<tensorflow.python.checkpoint.checkpoint.CheckpointLoadStatus at 0x1a8cc470040>"
      ]
     },
     "execution_count": 6,
     "metadata": {},
     "output_type": "execute_result"
    }
   ],
   "source": [
    "configs = config_util.get_configs_from_pipeline_file(new_path)\n",
    "detection_model = model_builder.build(model_config=configs['model'], is_training=False)\n",
    "\n",
    "ckpt = tf.compat.v2.train.Checkpoint(model=detection_model)\n",
    "ckpt.restore(os.path.join('model_config', 'ckpt-6')).expect_partial()\n",
    "\n"
   ]
  },
  {
   "cell_type": "code",
   "execution_count": 7,
   "id": "046f81ba",
   "metadata": {
    "ExecuteTime": {
     "end_time": "2023-02-24T22:17:29.191884Z",
     "start_time": "2023-02-24T22:17:29.172883Z"
    }
   },
   "outputs": [],
   "source": [
    "@tf.function\n",
    "def detect_image(image):\n",
    "    images, shapes = detection_model.preprocess(image)\n",
    "    prediction_dict = detection_model.predict(images, shapes)\n",
    "    detections = detection_model.postprocess(prediction_dict, shapes)\n",
    "    return detections"
   ]
  },
  {
   "cell_type": "code",
   "execution_count": 8,
   "id": "69a3bedd",
   "metadata": {
    "ExecuteTime": {
     "end_time": "2023-02-24T22:17:30.202118Z",
     "start_time": "2023-02-24T22:17:30.191108Z"
    }
   },
   "outputs": [],
   "source": [
    "category_index = label_map_util.create_category_index_from_labelmap(label_map)"
   ]
  },
  {
   "cell_type": "code",
   "execution_count": 24,
   "id": "652c2e09",
   "metadata": {
    "ExecuteTime": {
     "end_time": "2023-02-24T22:27:46.901968Z",
     "start_time": "2023-02-24T22:27:27.126860Z"
    }
   },
   "outputs": [
    {
     "data": {
      "text/plain": [
       "-1"
      ]
     },
     "execution_count": 24,
     "metadata": {},
     "output_type": "execute_result"
    }
   ],
   "source": [
    "image_path = r'train\\Cars0.png'\n",
    "\n",
    "image = cv2.imread(image_path)\n",
    "img = np.array(image)\n",
    "\n",
    "input_tensor = tf.convert_to_tensor(np.expand_dims(img, 0), dtype=tf.float32)\n",
    "\n",
    "detections = detect_image(input_tensor)\n",
    "\n",
    "num_detections = int(detections.pop('num_detections'))\n",
    "detections = {key: value[0, :num_detections].numpy() for key, value in detections.items()}\n",
    "\n",
    "\n",
    "detections['num_detections'] = num_detections\n",
    "\n",
    "detections['detection_classes'] = detections['detection_classes'].astype(np.int64)\n",
    "\n",
    "label_id_offset = 1\n",
    "image_np_with_detections = img.copy()\n",
    "\n",
    "viz_utils.visualize_boxes_and_labels_on_image_array(\n",
    "    image_np_with_detections,\n",
    "    detections['detection_boxes'],\n",
    "    detections['detection_classes']+label_id_offset,\n",
    "    detections['detection_scores'],\n",
    "    category_index,\n",
    "    use_normalized_coordinates=True,\n",
    "    max_boxes_to_draw = 5,\n",
    "    min_score_thresh = 0.5,\n",
    "    agnostic_mode=False\n",
    ")\n",
    "\n",
    "cv2.imshow('object_detec', image_np_with_detections)\n",
    "cv2.waitKey(0)"
   ]
  },
  {
   "cell_type": "code",
   "execution_count": null,
   "id": "8747b499",
   "metadata": {},
   "outputs": [],
   "source": []
  }
 ],
 "metadata": {
  "kernelspec": {
   "display_name": "Python 3 (ipykernel)",
   "language": "python",
   "name": "python3"
  },
  "language_info": {
   "codemirror_mode": {
    "name": "ipython",
    "version": 3
   },
   "file_extension": ".py",
   "mimetype": "text/x-python",
   "name": "python",
   "nbconvert_exporter": "python",
   "pygments_lexer": "ipython3",
   "version": "3.9.0"
  },
  "varInspector": {
   "cols": {
    "lenName": 16,
    "lenType": 16,
    "lenVar": 40
   },
   "kernels_config": {
    "python": {
     "delete_cmd_postfix": "",
     "delete_cmd_prefix": "del ",
     "library": "var_list.py",
     "varRefreshCmd": "print(var_dic_list())"
    },
    "r": {
     "delete_cmd_postfix": ") ",
     "delete_cmd_prefix": "rm(",
     "library": "var_list.r",
     "varRefreshCmd": "cat(var_dic_list()) "
    }
   },
   "types_to_exclude": [
    "module",
    "function",
    "builtin_function_or_method",
    "instance",
    "_Feature"
   ],
   "window_display": false
  }
 },
 "nbformat": 4,
 "nbformat_minor": 5
}
